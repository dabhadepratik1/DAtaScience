{
 "cells": [
  {
   "cell_type": "code",
   "execution_count": 1,
   "id": "dea33efc",
   "metadata": {},
   "outputs": [],
   "source": [
    "# Step 1: Define the objective of problem statement\n",
    "# create a classification model which can classify insurance buyers and not buyers \n",
    "# step 2: Data Gathering\n",
    "# step 3: Data preperation"
   ]
  },
  {
   "cell_type": "code",
   "execution_count": 2,
   "id": "bedf9cb9",
   "metadata": {},
   "outputs": [],
   "source": [
    "# import lib\n",
    "\n",
    "import numpy as np\n",
    "import pandas as pd\n",
    "import matplotlib.pyplot as plt\n",
    "import seaborn as sns\n",
    "from sklearn.model_selection import train_test_split"
   ]
  },
  {
   "cell_type": "code",
   "execution_count": 3,
   "id": "a77cc7d2",
   "metadata": {},
   "outputs": [
    {
     "data": {
      "text/html": [
       "<div>\n",
       "<style scoped>\n",
       "    .dataframe tbody tr th:only-of-type {\n",
       "        vertical-align: middle;\n",
       "    }\n",
       "\n",
       "    .dataframe tbody tr th {\n",
       "        vertical-align: top;\n",
       "    }\n",
       "\n",
       "    .dataframe thead th {\n",
       "        text-align: right;\n",
       "    }\n",
       "</style>\n",
       "<table border=\"1\" class=\"dataframe\">\n",
       "  <thead>\n",
       "    <tr style=\"text-align: right;\">\n",
       "      <th></th>\n",
       "      <th>age</th>\n",
       "      <th>bought_insurance</th>\n",
       "    </tr>\n",
       "  </thead>\n",
       "  <tbody>\n",
       "    <tr>\n",
       "      <th>0</th>\n",
       "      <td>22</td>\n",
       "      <td>0</td>\n",
       "    </tr>\n",
       "    <tr>\n",
       "      <th>1</th>\n",
       "      <td>25</td>\n",
       "      <td>0</td>\n",
       "    </tr>\n",
       "    <tr>\n",
       "      <th>2</th>\n",
       "      <td>47</td>\n",
       "      <td>1</td>\n",
       "    </tr>\n",
       "    <tr>\n",
       "      <th>3</th>\n",
       "      <td>52</td>\n",
       "      <td>0</td>\n",
       "    </tr>\n",
       "    <tr>\n",
       "      <th>4</th>\n",
       "      <td>46</td>\n",
       "      <td>1</td>\n",
       "    </tr>\n",
       "  </tbody>\n",
       "</table>\n",
       "</div>"
      ],
      "text/plain": [
       "   age  bought_insurance\n",
       "0   22                 0\n",
       "1   25                 0\n",
       "2   47                 1\n",
       "3   52                 0\n",
       "4   46                 1"
      ]
     },
     "execution_count": 3,
     "metadata": {},
     "output_type": "execute_result"
    }
   ],
   "source": [
    "# Read data set\n",
    "df=pd.read_csv(\"D:\\DSCT\\Dataset\\insurance_data.csv\")\n",
    "df.head()"
   ]
  },
  {
   "cell_type": "code",
   "execution_count": 4,
   "id": "531bd811",
   "metadata": {},
   "outputs": [],
   "source": [
    "#step 3: data prep\n",
    "# not required tothis data set"
   ]
  },
  {
   "cell_type": "markdown",
   "id": "68ec37db",
   "metadata": {},
   "source": [
    "# Step 4 EDA"
   ]
  },
  {
   "cell_type": "code",
   "execution_count": 5,
   "id": "ff347c4c",
   "metadata": {},
   "outputs": [
    {
     "name": "stdout",
     "output_type": "stream",
     "text": [
      "<class 'pandas.core.frame.DataFrame'>\n",
      "RangeIndex: 27 entries, 0 to 26\n",
      "Data columns (total 2 columns):\n",
      " #   Column            Non-Null Count  Dtype\n",
      "---  ------            --------------  -----\n",
      " 0   age               27 non-null     int64\n",
      " 1   bought_insurance  27 non-null     int64\n",
      "dtypes: int64(2)\n",
      "memory usage: 560.0 bytes\n"
     ]
    }
   ],
   "source": [
    "df.info()"
   ]
  },
  {
   "cell_type": "code",
   "execution_count": 6,
   "id": "08bd95da",
   "metadata": {},
   "outputs": [
    {
     "data": {
      "text/plain": [
       "<AxesSubplot:xlabel='age', ylabel='bought_insurance'>"
      ]
     },
     "execution_count": 6,
     "metadata": {},
     "output_type": "execute_result"
    },
    {
     "data": {
      "image/png": "[encoded data removed]",
      "text/plain": [
       "<Figure size 432x288 with 1 Axes>"
      ]
     },
     "metadata": {
      "needs_background": "light"
     },
     "output_type": "display_data"
    }
   ],
   "source": [
    "sns.scatterplot(x=df['age'],y=df['bought_insurance'])"
   ]
  },
  {
   "cell_type": "code",
   "execution_count": 7,
   "id": "63422d42",
   "metadata": {},
   "outputs": [],
   "source": [
    " # split data into X and y\n",
    "# X=age\n",
    "# y=bought_insurance"
   ]
  },
  {
   "cell_type": "code",
   "execution_count": 8,
   "id": "acb44d34",
   "metadata": {},
   "outputs": [],
   "source": [
    "X=df[['age']]\n",
    "y=df['bought_insurance']"
   ]
  },
  {
   "cell_type": "code",
   "execution_count": 9,
   "id": "94869659",
   "metadata": {},
   "outputs": [
    {
     "data": {
      "text/plain": [
       "pandas.core.frame.DataFrame"
      ]
     },
     "execution_count": 9,
     "metadata": {},
     "output_type": "execute_result"
    }
   ],
   "source": [
    "type(X)"
   ]
  },
  {
   "cell_type": "code",
   "execution_count": 10,
   "id": "911e001d",
   "metadata": {},
   "outputs": [
    {
     "data": {
      "text/plain": [
       "pandas.core.series.Series"
      ]
     },
     "execution_count": 10,
     "metadata": {},
     "output_type": "execute_result"
    }
   ],
   "source": [
    "type(y)"
   ]
  },
  {
   "cell_type": "code",
   "execution_count": 11,
   "id": "b02794ce",
   "metadata": {},
   "outputs": [],
   "source": [
    "# split the data into traning and spliting\n",
    "# train_test_split\n",
    "\n",
    "X_train,X_test,y_train,y_test=train_test_split(X,y,test_size=0.2,random_state=3)"
   ]
  },
  {
   "cell_type": "code",
   "execution_count": 12,
   "id": "a9576c93",
   "metadata": {},
   "outputs": [
    {
     "name": "stdout",
     "output_type": "stream",
     "text": [
      "X_train:  (21, 1)\n",
      "X_test:  (6, 1)\n",
      "y_train:  (21,)\n",
      "y_test:  (6,)\n"
     ]
    }
   ],
   "source": [
    "print(\"X_train: \",X_train.shape)\n",
    "print(\"X_test: \",X_test.shape)\n",
    "print(\"y_train: \",y_train.shape)\n",
    "print(\"y_test: \",y_test.shape)"
   ]
  },
  {
   "cell_type": "code",
   "execution_count": 13,
   "id": "46916bf0",
   "metadata": {},
   "outputs": [],
   "source": [
    "# model evaluation fun\n",
    "\n",
    "from sklearn.metrics import precision_score,recall_score,f1_score\n",
    "from sklearn.metrics import accuracy_score\n",
    "\n",
    "def model_Eval(y_test,y_pred):\n",
    "    acc=accuracy_score(y_test,y_pred)\n",
    "    print(\"Accuracy:- \",acc)\n",
    "    print(\"Error Rate:- \",1-acc)\n",
    "    print(\"Precision :-\",precision_score(y_test,y_pred,average='weighted'))\n",
    "    print(\"Recall:- \",recall_score(y_test,y_pred,average='weighted'))\n",
    "    print(\"F1:- \",f1_score(y_test,y_pred,average='weighted'))\n",
    "\n",
    "    # confusion matrics\n",
    "    from sklearn.metrics import confusion_matrix\n",
    "    \n",
    "    cm=confusion_matrix(y_test,y_pred)\n",
    "    print(cm)\n",
    "    plt.figure(figsize=(10,5))\n",
    "    sns.heatmap(cm,annot=True)\n",
    "    plt.xlabel(\"prediction\")\n",
    "    plt.ylabel(\"Actual\")"
   ]
  },
  {
   "cell_type": "markdown",
   "id": "919b9c90",
   "metadata": {},
   "source": [
    "# Step 5 : Building machine Learning Model"
   ]
  },
  {
   "cell_type": "code",
   "execution_count": 14,
   "id": "c90a441c",
   "metadata": {},
   "outputs": [
    {
     "name": "stdout",
     "output_type": "stream",
     "text": [
      "model completed\n",
      "Model training completed\n",
      "y_pred completed\n",
      "Acc of k=3 :-   50.0\n",
      "Accuracy:-  0.5\n",
      "Error Rate:-  0.5\n",
      "Precision :- 0.7999999999999999\n",
      "Recall:-  0.5\n",
      "F1:-  0.45714285714285713\n",
      "[[2 0]\n",
      " [3 1]]\n"
     ]
    },
    {
     "data": {
      "image/png": "[encoded data removed]",
      "text/plain": [
       "<Figure size 720x360 with 2 Axes>"
      ]
     },
     "metadata": {
      "needs_background": "light"
     },
     "output_type": "display_data"
    }
   ],
   "source": [
    "# Knn model\n",
    "\n",
    "from sklearn.neighbors import KNeighborsClassifier\n",
    "from sklearn.metrics import accuracy_score\n",
    "\n",
    "ML_Model=KNeighborsClassifier(n_neighbors=3,p=1)\n",
    "print(\"model completed\")\n",
    "\n",
    "# traning\n",
    "ML_Model.fit(X_train,y_train)\n",
    "print(\"Model training completed\")\n",
    "\n",
    "# find y_pred\n",
    "\n",
    "y_pred=ML_Model.predict(X_test)\n",
    "print(\"y_pred completed\")\n",
    "\n",
    "# find acc\n",
    "acc=accuracy_score(y_test,y_pred)\n",
    "print(\"Acc of k=3 :-  \",acc*100)\n",
    "\n",
    "#KNN Eval\n",
    "model_Eval(y_test,y_pred)"
   ]
  },
  {
   "cell_type": "code",
   "execution_count": 15,
   "id": "1ea972e3",
   "metadata": {},
   "outputs": [
    {
     "name": "stdout",
     "output_type": "stream",
     "text": [
      "model completed\n",
      "Model traning completed\n",
      "y_pred completed\n",
      "Accuracy:-  0.8333333333333334\n",
      "Error Rate:-  0.16666666666666663\n",
      "Precision :- 0.8888888888888888\n",
      "Recall:-  0.8333333333333334\n",
      "F1:-  0.8380952380952381\n",
      "[[2 0]\n",
      " [1 3]]\n"
     ]
    },
    {
     "data": {
      "image/png": "[encoded data removed]",
      "text/plain": [
       "<Figure size 720x360 with 2 Axes>"
      ]
     },
     "metadata": {
      "needs_background": "light"
     },
     "output_type": "display_data"
    }
   ],
   "source": [
    "# LogisticRegression\n",
    "\n",
    "from sklearn.linear_model import LogisticRegression\n",
    "from sklearn.metrics import accuracy_score\n",
    "\n",
    "ML_Model=LogisticRegression()\n",
    "print(\"model completed\")\n",
    "\n",
    "# model traning\n",
    "ML_Model.fit(X_train,y_train)\n",
    "print(\"Model traning completed\")\n",
    "\n",
    "# find y_pred\n",
    "y_pred=ML_Model.predict(X_test)\n",
    "print(\"y_pred completed\")\n",
    "\n",
    "# LR Eval\n",
    "model_Eval(y_test,y_pred)"
   ]
  },
  {
   "cell_type": "code",
   "execution_count": 16,
   "id": "9ff10bda",
   "metadata": {},
   "outputs": [
    {
     "name": "stdout",
     "output_type": "stream",
     "text": [
      "model completed\n",
      "traning completed\n",
      "y_pred completed\n",
      "Accuracy:-  0.8333333333333334\n",
      "Error Rate:-  0.16666666666666663\n",
      "Precision :- 0.8888888888888888\n",
      "Recall:-  0.8333333333333334\n",
      "F1:-  0.8380952380952381\n",
      "[[2 0]\n",
      " [1 3]]\n"
     ]
    },
    {
     "data": {
      "image/png": "[encoded data removed]",
      "text/plain": [
       "<Figure size 720x360 with 2 Axes>"
      ]
     },
     "metadata": {
      "needs_background": "light"
     },
     "output_type": "display_data"
    }
   ],
   "source": [
    "# NB\n",
    "from sklearn.naive_bayes import GaussianNB\n",
    "\n",
    "ML_Model=GaussianNB()\n",
    "print(\"model completed\")\n",
    "\n",
    "#traning\n",
    "ML_Model.fit(X_train,y_train)\n",
    "print(\"traning completed\")\n",
    "\n",
    "# y_pred\n",
    "y_pred=ML_Model.predict(X_test)\n",
    "print(\"y_pred completed\")\n",
    "\n",
    "# Eval\n",
    "model_Eval(y_test,y_pred)"
   ]
  },
  {
   "cell_type": "markdown",
   "id": "34c6bddf",
   "metadata": {},
   "source": [
    "# Step 7 : prediction"
   ]
  },
  {
   "cell_type": "code",
   "execution_count": 17,
   "id": "37b66d06",
   "metadata": {},
   "outputs": [
    {
     "name": "stdout",
     "output_type": "stream",
     "text": [
      "Enter age:- 45\n",
      "for age 45.0  customer will buy insurance\n"
     ]
    },
    {
     "name": "stderr",
     "output_type": "stream",
     "text": [
      "C:\\Users\\prati\\anaconda3\\lib\\site-packages\\sklearn\\base.py:450: UserWarning: X does not have valid feature names, but GaussianNB was fitted with feature names\n",
      "  warnings.warn(\n"
     ]
    }
   ],
   "source": [
    "age=float(input(\"Enter age:- \"))\n",
    "pred=ML_Model.predict([[age]])[0]\n",
    "\n",
    "if(pred==1):\n",
    "    print(\"for age {}  customer will buy insurance\".format(age))\n",
    "else:\n",
    "    print(\"for age {} customer wll not buy insurance \".format(age))"
   ]
  },
  {
   "cell_type": "code",
   "execution_count": null,
   "id": "eab045b4",
   "metadata": {},
   "outputs": [],
   "source": []
  },
  {
   "cell_type": "code",
   "execution_count": null,
   "id": "1b1e6c52",
   "metadata": {},
   "outputs": [],
   "source": []
  },
  {
   "cell_type": "code",
   "execution_count": null,
   "id": "de4aea74",
   "metadata": {},
   "outputs": [],
   "source": []
  }
 ],
 "metadata": {
  "kernelspec": {
   "display_name": "Python 3 (ipykernel)",
   "language": "python",
   "name": "python3"
  },
  "language_info": {
   "codemirror_mode": {
    "name": "ipython",
    "version": 3
   },
   "file_extension": ".py",
   "mimetype": "text/x-python",
   "name": "python",
   "nbconvert_exporter": "python",
   "pygments_lexer": "ipython3",
   "version": "3.9.12"
  }
 },
 "nbformat": 4,
 "nbformat_minor": 5
}
