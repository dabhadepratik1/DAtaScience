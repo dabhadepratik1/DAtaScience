{
 "cells": [
  {
   "cell_type": "code",
   "execution_count": 1,
   "id": "8caa076f",
   "metadata": {},
   "outputs": [],
   "source": [
    "# import lib\n",
    "import numpy as np\n",
    "import joblib"
   ]
  },
  {
   "cell_type": "code",
   "execution_count": 6,
   "id": "79106512",
   "metadata": {},
   "outputs": [
    {
     "name": "stdout",
     "output_type": "stream",
     "text": [
      "Loaded!!\n"
     ]
    }
   ],
   "source": [
    "ML_model=joblib.load(\"KNN_Iris_Model.pkl\")\n",
    "print(\"Loaded!!\")"
   ]
  },
  {
   "cell_type": "code",
   "execution_count": 7,
   "id": "2002543f",
   "metadata": {},
   "outputs": [
    {
     "data": {
      "text/plain": [
       "KNeighborsClassifier(n_neighbors=9, p=1)"
      ]
     },
     "execution_count": 7,
     "metadata": {},
     "output_type": "execute_result"
    }
   ],
   "source": [
    "ML_model"
   ]
  },
  {
   "cell_type": "code",
   "execution_count": 4,
   "id": "db06cfcd",
   "metadata": {},
   "outputs": [
    {
     "name": "stdout",
     "output_type": "stream",
     "text": [
      "Enter SL:- 5.1\n",
      "Enter SW:- 3.5\n",
      "Enter PL:- 1.4\n",
      "Enter PW:- 0.2\n"
     ]
    }
   ],
   "source": [
    "SL=float(input(\"Enter SL:- \"))\n",
    "SW=float(input(\"Enter SW:- \"))\n",
    "PL=float(input(\"Enter PL:- \"))\n",
    "PW=float(input(\"Enter PW:- \"))"
   ]
  },
  {
   "cell_type": "code",
   "execution_count": 8,
   "id": "e1b7c5c9",
   "metadata": {},
   "outputs": [
    {
     "name": "stdout",
     "output_type": "stream",
     "text": [
      "for SL=5.1,SW=3.5,PL=1.4,PW=0.2 flower species is setosa\n"
     ]
    },
    {
     "name": "stderr",
     "output_type": "stream",
     "text": [
      "C:\\Users\\prati\\anaconda3\\lib\\site-packages\\sklearn\\base.py:450: UserWarning: X does not have valid feature names, but KNeighborsClassifier was fitted with feature names\n",
      "  warnings.warn(\n"
     ]
    }
   ],
   "source": [
    "pred=ML_model.predict([[SL,SW,PL,PW]])[0]\n",
    "print(\"for SL={},SW={},PL={},PW={} flower species is {}\".format(SL,SW,PL,PW,pred))"
   ]
  },
  {
   "cell_type": "code",
   "execution_count": null,
   "id": "38afd949",
   "metadata": {},
   "outputs": [],
   "source": []
  }
 ],
 "metadata": {
  "kernelspec": {
   "display_name": "Python 3 (ipykernel)",
   "language": "python",
   "name": "python3"
  },
  "language_info": {
   "codemirror_mode": {
    "name": "ipython",
    "version": 3
   },
   "file_extension": ".py",
   "mimetype": "text/x-python",
   "name": "python",
   "nbconvert_exporter": "python",
   "pygments_lexer": "ipython3",
   "version": "3.9.12"
  }
 },
 "nbformat": 4,
 "nbformat_minor": 5
}
